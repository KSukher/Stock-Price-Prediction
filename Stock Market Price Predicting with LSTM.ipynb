{
 "cells": [
  {
   "cell_type": "markdown",
   "metadata": {},
   "source": [
    "# Stock Market Price Predicting with LSTM \n",
    "## By Kevin Sukher\n",
    "\n",
    "For this project we are predicting stock market prices using a Recurrent Neural Network (RNN) technique called Long Short-Term Memory (LSTM). This program consists of taking the closing price data of a stock market data set and processing it through an LSTM model in hopes of generating an accurate prediction model of the given data. We will build the LSTM model architecture and have it train, test and predict prices based on the closing price data set input that will be split and normalized for the model beforehand."
   ]
  },
  {
   "cell_type": "markdown",
   "metadata": {},
   "source": [
    "## Preliminary Installations\n",
    "\n",
    "Before getting started, there are a couple of libraries and packages that need to, if not already, be installed for the RNN.\n",
    "* Tensorflow, a library that focuses on training and inference of deep neural networks. This can be installed with the command,\n",
    "    \n",
    "    `!pip install tensorflow`\n",
    "\n",
    "\n",
    "* Keras, a deep learning API that runs on top of TensorFlow and is used for solving machine learning problems. This can be installed with the command,\n",
    "\n",
    "    `!pip install keras`\n",
    "    \n",
    "\n",
    "* Pandas-Datareader, a package of the pandas library that reads and imports data based on various sources and variables. This can be installed with the command,\n",
    "\n",
    "    `!pip install pandas-datareader`"
   ]
  },
  {
   "cell_type": "markdown",
   "metadata": {},
   "source": [
    "## Importing Libraries\n",
    "\n",
    "Importing and setting variables from the required packages. These include `numpy`, `pandas`, and `matplotlib` that provide high-level mathematical functions, data manipulation and the ability to plot similiar to the MatlLAB functionalities. As well as, `keras` for building and running machine learning RNNs."
   ]
  },
  {
   "cell_type": "code",
   "execution_count": 1,
   "metadata": {},
   "outputs": [],
   "source": [
    "import numpy as np\n",
    "import pandas as pd\n",
    "\n",
    "import matplotlib\n",
    "import matplotlib.pyplot as plt\n",
    "%matplotlib inline\n",
    "\n",
    "import pandas_datareader as web\n",
    "from sklearn.preprocessing import MinMaxScaler\n",
    "\n",
    "from keras.models import Sequential\n",
    "from keras.layers import Dense\n",
    "from keras.layers import LSTM\n",
    "\n",
    "import math\n",
    "import warnings\n",
    "warnings.filterwarnings('ignore')"
   ]
  },
  {
   "cell_type": "markdown",
   "metadata": {},
   "source": [
    "## Obtaining and Reading Stock Data\n",
    "\n",
    "For this project we will be using stock market data from [Yahoo Finance](https://finance.yahoo.com/), which offers downloadable historical data from most publicly traded corporations/companies.\n",
    "\n",
    "Here the user can have the option of choosing any publicly traded company and inputting how many previous stock price `days` they want to measure for the RNN model.\n",
    "\n",
    "As well as, choose to either use `DataReader` to get the stock data directly from the website, or download it as an `.csv` file and read it locally. For whichever path is chosen, make sure to comment out the other option.\n",
    "\n",
    "As an example for this project, we will be looking at the previous 100 days for the prediction model."
   ]
  },
  {
   "cell_type": "code",
   "execution_count": 2,
   "metadata": {},
   "outputs": [],
   "source": [
    "days = 100"
   ]
  },
  {
   "cell_type": "markdown",
   "metadata": {},
   "source": [
    "### DataReader Option for Stock Market Data\n",
    "\n",
    "Input the `ticker` symbol of the company, the `startDate` in YYYY-MM-DD format of the stock market data, the `endDate` in YYYY-MM-DD format of the stock market data and the `nextDay` date of the end date in YYYY-MM-DD format for comparing how accurate the future day prediction of the model was to the actual next day market price.\n",
    "\n",
    "As an example for this project, we will be using Microsoft (ticker symbol <b>MSFT</b>) for our prediction model. For the range we will look at stock market data from January 1, 2010 to January 1, 2020. The future day for prediction comparison being January 2, 2020."
   ]
  },
  {
   "cell_type": "code",
   "execution_count": 3,
   "metadata": {},
   "outputs": [],
   "source": [
    "ticker = 'MSFT'\n",
    "startDate = '2010-01-01'\n",
    "endDate = '2020-01-01'\n",
    "nextDay = '2020-01-02'"
   ]
  },
  {
   "cell_type": "markdown",
   "metadata": {},
   "source": [
    "Using `DataReader` to get data directly from [Yahoo Finance](https://finance.yahoo.com/) based on the set parameters and displaying the data table."
   ]
  },
  {
   "cell_type": "code",
   "execution_count": 4,
   "metadata": {},
   "outputs": [
    {
     "data": {
      "text/html": [
       "<div>\n",
       "<style scoped>\n",
       "    .dataframe tbody tr th:only-of-type {\n",
       "        vertical-align: middle;\n",
       "    }\n",
       "\n",
       "    .dataframe tbody tr th {\n",
       "        vertical-align: top;\n",
       "    }\n",
       "\n",
       "    .dataframe thead th {\n",
       "        text-align: right;\n",
       "    }\n",
       "</style>\n",
       "<table border=\"1\" class=\"dataframe\">\n",
       "  <thead>\n",
       "    <tr style=\"text-align: right;\">\n",
       "      <th></th>\n",
       "      <th>High</th>\n",
       "      <th>Low</th>\n",
       "      <th>Open</th>\n",
       "      <th>Close</th>\n",
       "      <th>Volume</th>\n",
       "      <th>Adj Close</th>\n",
       "    </tr>\n",
       "    <tr>\n",
       "      <th>Date</th>\n",
       "      <th></th>\n",
       "      <th></th>\n",
       "      <th></th>\n",
       "      <th></th>\n",
       "      <th></th>\n",
       "      <th></th>\n",
       "    </tr>\n",
       "  </thead>\n",
       "  <tbody>\n",
       "    <tr>\n",
       "      <th>2010-01-04</th>\n",
       "      <td>31.100000</td>\n",
       "      <td>30.590000</td>\n",
       "      <td>30.620001</td>\n",
       "      <td>30.950001</td>\n",
       "      <td>38409100.0</td>\n",
       "      <td>24.049969</td>\n",
       "    </tr>\n",
       "    <tr>\n",
       "      <th>2010-01-05</th>\n",
       "      <td>31.100000</td>\n",
       "      <td>30.639999</td>\n",
       "      <td>30.850000</td>\n",
       "      <td>30.959999</td>\n",
       "      <td>49749600.0</td>\n",
       "      <td>24.057743</td>\n",
       "    </tr>\n",
       "    <tr>\n",
       "      <th>2010-01-06</th>\n",
       "      <td>31.080000</td>\n",
       "      <td>30.520000</td>\n",
       "      <td>30.879999</td>\n",
       "      <td>30.770000</td>\n",
       "      <td>58182400.0</td>\n",
       "      <td>23.910097</td>\n",
       "    </tr>\n",
       "    <tr>\n",
       "      <th>2010-01-07</th>\n",
       "      <td>30.700001</td>\n",
       "      <td>30.190001</td>\n",
       "      <td>30.629999</td>\n",
       "      <td>30.450001</td>\n",
       "      <td>50559700.0</td>\n",
       "      <td>23.661432</td>\n",
       "    </tr>\n",
       "    <tr>\n",
       "      <th>2010-01-08</th>\n",
       "      <td>30.879999</td>\n",
       "      <td>30.240000</td>\n",
       "      <td>30.280001</td>\n",
       "      <td>30.660000</td>\n",
       "      <td>51197400.0</td>\n",
       "      <td>23.824627</td>\n",
       "    </tr>\n",
       "    <tr>\n",
       "      <th>...</th>\n",
       "      <td>...</td>\n",
       "      <td>...</td>\n",
       "      <td>...</td>\n",
       "      <td>...</td>\n",
       "      <td>...</td>\n",
       "      <td>...</td>\n",
       "    </tr>\n",
       "    <tr>\n",
       "      <th>2019-12-24</th>\n",
       "      <td>157.710007</td>\n",
       "      <td>157.119995</td>\n",
       "      <td>157.479996</td>\n",
       "      <td>157.380005</td>\n",
       "      <td>8989200.0</td>\n",
       "      <td>155.372406</td>\n",
       "    </tr>\n",
       "    <tr>\n",
       "      <th>2019-12-26</th>\n",
       "      <td>158.729996</td>\n",
       "      <td>157.399994</td>\n",
       "      <td>157.559998</td>\n",
       "      <td>158.669998</td>\n",
       "      <td>14520600.0</td>\n",
       "      <td>156.645950</td>\n",
       "    </tr>\n",
       "    <tr>\n",
       "      <th>2019-12-27</th>\n",
       "      <td>159.550003</td>\n",
       "      <td>158.220001</td>\n",
       "      <td>159.449997</td>\n",
       "      <td>158.960007</td>\n",
       "      <td>18412800.0</td>\n",
       "      <td>156.932251</td>\n",
       "    </tr>\n",
       "    <tr>\n",
       "      <th>2019-12-30</th>\n",
       "      <td>159.020004</td>\n",
       "      <td>156.729996</td>\n",
       "      <td>158.990005</td>\n",
       "      <td>157.589996</td>\n",
       "      <td>16348400.0</td>\n",
       "      <td>155.579727</td>\n",
       "    </tr>\n",
       "    <tr>\n",
       "      <th>2019-12-31</th>\n",
       "      <td>157.770004</td>\n",
       "      <td>156.449997</td>\n",
       "      <td>156.770004</td>\n",
       "      <td>157.699997</td>\n",
       "      <td>18369400.0</td>\n",
       "      <td>155.688324</td>\n",
       "    </tr>\n",
       "  </tbody>\n",
       "</table>\n",
       "<p>2516 rows × 6 columns</p>\n",
       "</div>"
      ],
      "text/plain": [
       "                  High         Low        Open       Close      Volume  \\\n",
       "Date                                                                     \n",
       "2010-01-04   31.100000   30.590000   30.620001   30.950001  38409100.0   \n",
       "2010-01-05   31.100000   30.639999   30.850000   30.959999  49749600.0   \n",
       "2010-01-06   31.080000   30.520000   30.879999   30.770000  58182400.0   \n",
       "2010-01-07   30.700001   30.190001   30.629999   30.450001  50559700.0   \n",
       "2010-01-08   30.879999   30.240000   30.280001   30.660000  51197400.0   \n",
       "...                ...         ...         ...         ...         ...   \n",
       "2019-12-24  157.710007  157.119995  157.479996  157.380005   8989200.0   \n",
       "2019-12-26  158.729996  157.399994  157.559998  158.669998  14520600.0   \n",
       "2019-12-27  159.550003  158.220001  159.449997  158.960007  18412800.0   \n",
       "2019-12-30  159.020004  156.729996  158.990005  157.589996  16348400.0   \n",
       "2019-12-31  157.770004  156.449997  156.770004  157.699997  18369400.0   \n",
       "\n",
       "             Adj Close  \n",
       "Date                    \n",
       "2010-01-04   24.049969  \n",
       "2010-01-05   24.057743  \n",
       "2010-01-06   23.910097  \n",
       "2010-01-07   23.661432  \n",
       "2010-01-08   23.824627  \n",
       "...                ...  \n",
       "2019-12-24  155.372406  \n",
       "2019-12-26  156.645950  \n",
       "2019-12-27  156.932251  \n",
       "2019-12-30  155.579727  \n",
       "2019-12-31  155.688324  \n",
       "\n",
       "[2516 rows x 6 columns]"
      ]
     },
     "execution_count": 4,
     "metadata": {},
     "output_type": "execute_result"
    }
   ],
   "source": [
    "df = web.DataReader(ticker, data_source = 'yahoo', start = startDate, end = endDate)\n",
    "xaxis = 'Date'\n",
    "df"
   ]
  },
  {
   "cell_type": "markdown",
   "metadata": {},
   "source": [
    "### CSV File Option for Stock Market Data\n",
    "\n",
    "For obtaining the `.csv` file for modeling, go to [Yahoo Finance](https://finance.yahoo.com/) and search for the company in the search bar. From there go into the <b>Historical Data</b> tab and filter for the desirable <b>time period</b> range. From there <b>download</b> the data, which Yahoo will automatically save as <b>'ticker symbol'.csv</b>. Make sure to then move it to the local path for usage.\n",
    "\n",
    "Here we use `pd.read_csv` to read the `.csv` file and display the data table."
   ]
  },
  {
   "cell_type": "code",
   "execution_count": 5,
   "metadata": {},
   "outputs": [],
   "source": [
    "# df = pd.read_csv('MSFT.csv')\n",
    "# xaxis = 'Days'\n",
    "# df"
   ]
  },
  {
   "cell_type": "markdown",
   "metadata": {},
   "source": [
    "Displaying the rows and columns of the data set."
   ]
  },
  {
   "cell_type": "code",
   "execution_count": 6,
   "metadata": {},
   "outputs": [
    {
     "name": "stdout",
     "output_type": "stream",
     "text": [
      "Number of rows and columns in the data set:  (2516, 6)\n"
     ]
    }
   ],
   "source": [
    "print('Number of rows and columns in the data set: ', df.shape)"
   ]
  },
  {
   "cell_type": "markdown",
   "metadata": {},
   "source": [
    "## Plotting the Closing Prices of the Data Set\n",
    "Taking the closing day price history in the <b>Close</b> column of the data set and plotting it for visualization."
   ]
  },
  {
   "cell_type": "code",
   "execution_count": 7,
   "metadata": {},
   "outputs": [
    {
     "data": {
      "image/png": "[encoded data removed]",
      "text/plain": [
       "<Figure size 1080x576 with 1 Axes>"
      ]
     },
     "metadata": {
      "needs_background": "light"
     },
     "output_type": "display_data"
    }
   ],
   "source": [
    "plt.figure(figsize = (15, 8))\n",
    "plt.plot(df['Close'])\n",
    "plt.title('Closing Prices')\n",
    "plt.xlabel(xaxis)\n",
    "plt.ylabel('Closing Price (USD)')\n",
    "plt.grid(True)\n",
    "# plt.savefig(\"ClosingPricePlot.jpg\")\n",
    "plt.show()"
   ]
  },
  {
   "cell_type": "markdown",
   "metadata": {},
   "source": [
    "## Creating a Training Data Set\n",
    "\n",
    "For this project we will be focusing on using the closing day market prices to train, test and make a prediction on the RNN model.\n",
    "\n",
    "For that we make a new set by using `filter` to remove everything but the <b>Close</b> column in the data set. We then convert the set into an array and split 75% of the data to be used for training the model."
   ]
  },
  {
   "cell_type": "code",
   "execution_count": 8,
   "metadata": {},
   "outputs": [
    {
     "name": "stdout",
     "output_type": "stream",
     "text": [
      "Number of values for training the model:  1887\n"
     ]
    }
   ],
   "source": [
    "closeData = df.filter(['Close'])\n",
    "closeArray = closeData.values\n",
    "closeLength = math.ceil(len(closeArray)*0.75)\n",
    "\n",
    "print('Number of values for training the model: ', closeLength)"
   ]
  },
  {
   "cell_type": "markdown",
   "metadata": {},
   "source": [
    "Before inputting the data into the neural network for processing, it is important to scale and normalize the data first. Here we're using the `MinMaxScaler` function to scale the closing price data set, so that it ranges inclusively from 0 and 1."
   ]
  },
  {
   "cell_type": "code",
   "execution_count": 9,
   "metadata": {},
   "outputs": [
    {
     "data": {
      "text/plain": [
       "array([[0.05840383],\n",
       "       [0.05847737],\n",
       "       [0.05707981],\n",
       "       ...,\n",
       "       [1.        ],\n",
       "       [0.98992269],\n",
       "       [0.99073182]])"
      ]
     },
     "execution_count": 9,
     "metadata": {},
     "output_type": "execute_result"
    }
   ],
   "source": [
    "scaler = MinMaxScaler(feature_range = (0, 1))\n",
    "scaledData = scaler.fit_transform(closeArray)\n",
    "scaleTrain = scaledData[0:closeLength, :]\n",
    "scaledData"
   ]
  },
  {
   "cell_type": "markdown",
   "metadata": {},
   "source": [
    "Here we are splitting the scaled data set into `Xtrain` and `ytrain`, where <b>X</b> is the independant input variable or features, and <b>y</b> is the dependent output variable or target. For these sets we `append` the user inputted `days` into `Xtrain` and the day after into `ytrain`."
   ]
  },
  {
   "cell_type": "code",
   "execution_count": 10,
   "metadata": {},
   "outputs": [
    {
     "name": "stdout",
     "output_type": "stream",
     "text": [
      "[array([0.05840383, 0.05847737, 0.05707981, 0.054726  , 0.05627068,\n",
      "       0.05340199, 0.05193085, 0.05399044, 0.05847737, 0.05774182,\n",
      "       0.05950717, 0.05575579, 0.05148952, 0.04376608, 0.04641412,\n",
      "       0.04773814, 0.0489886 , 0.04523721, 0.03802869, 0.03972048,\n",
      "       0.04008826, 0.04133872, 0.03552777, 0.03685178, 0.03464508,\n",
      "       0.03677823, 0.03663111, 0.03758735, 0.03618977, 0.03927915,\n",
      "       0.0410445 , 0.04383964, 0.04236852, 0.04207428, 0.03913203,\n",
      "       0.04133872, 0.04111806, 0.04163295, 0.04420743, 0.04008826,\n",
      "       0.04008826, 0.04133872, 0.0410445 , 0.04133872, 0.04258918,\n",
      "       0.04383964, 0.04538433, 0.04604634, 0.04619346, 0.04678191,\n",
      "       0.04869436, 0.04854726, 0.04840014, 0.0484737 , 0.05053327,\n",
      "       0.04884148, 0.05148952, 0.04891504, 0.04840014, 0.04972416,\n",
      "       0.04619346, 0.04523721, 0.04604634, 0.04641412, 0.04663479,\n",
      "       0.05082751, 0.05391688, 0.05376976, 0.054726  , 0.05744758,\n",
      "       0.05781538, 0.05634424, 0.05906584, 0.06141964, 0.06119897,\n",
      "       0.0616403 , 0.05847737, 0.05958073, 0.05766826, 0.05810959,\n",
      "       0.0587716 , 0.05538801, 0.05774182, 0.05237219, 0.05031261,\n",
      "       0.0439132 , 0.03824935, 0.04361898, 0.04317763, 0.0472968 ,\n",
      "       0.04582567, 0.04354542, 0.04361898, 0.04111806, 0.03847002,\n",
      "       0.03015815, 0.02817212, 0.0239794 , 0.02250827, 0.01471129])]\n",
      "[0.021993377186402596]\n",
      "\n"
     ]
    }
   ],
   "source": [
    "Xtrain, ytrain = [], []\n",
    "\n",
    "for i in range(days, len(scaleTrain)):\n",
    "    Xtrain.append(scaleTrain[i - days:i, 0])\n",
    "    ytrain.append(scaleTrain[i, 0])\n",
    "    \n",
    "    if i <= days:\n",
    "        print(Xtrain)\n",
    "        print(ytrain)\n",
    "        print()"
   ]
  },
  {
   "cell_type": "markdown",
   "metadata": {},
   "source": [
    "Converting the `Xtrain` and `ytrain` sets into arrays so they can be used when building the LSTM model. For the input variable `Xtrain`, the set must be `reshape` for the LSTM model as it expects the input data to be a 3D array."
   ]
  },
  {
   "cell_type": "code",
   "execution_count": 11,
   "metadata": {},
   "outputs": [
    {
     "name": "stdout",
     "output_type": "stream",
     "text": [
      "Three dimensional array consisting of rows, columns and depth : (1787, 100, 1)\n"
     ]
    }
   ],
   "source": [
    "Xtrain, ytrain = np.array(Xtrain), np.array(ytrain)\n",
    "Xtrain = np.reshape(Xtrain, (Xtrain.shape[0], Xtrain.shape[1], 1))\n",
    "\n",
    "print('Three dimensional array consisting of rows, columns and depth :', Xtrain.shape)"
   ]
  },
  {
   "cell_type": "markdown",
   "metadata": {},
   "source": [
    "## Building and Training the LSTM Model\n",
    "\n",
    "Now that the preprocessed training data has been created and normalized, we can start building and compiling the LSTM model. Since LSTM is an RNN that takes sequential data, we set the model equal `Sequential()`. From there it's a matter of adding the neural network layers to the model.\n",
    "\n",
    "For this project we have an `LSTM` layer with <b>50</b> neurons that takes in the training data as the `input_shape` and has a `return_sequence`. The next layer is also `LSTM` that contains <b>50</b> neurons but no `return_sequence` since there is no more LSTM layers moving forward. For the next 2 layers we add a `Dense` neural network layer with <b>25</b> neurons and one with only <b>1</b> neuron for the output."
   ]
  },
  {
   "cell_type": "code",
   "execution_count": 12,
   "metadata": {},
   "outputs": [],
   "source": [
    "model = Sequential()\n",
    "\n",
    "model.add(LSTM(50, return_sequences = True, input_shape=(Xtrain.shape[1], 1)))\n",
    "model.add(LSTM(50, return_sequences = False))\n",
    "\n",
    "model.add(Dense(25))\n",
    "model.add(Dense(1))"
   ]
  },
  {
   "cell_type": "markdown",
   "metadata": {},
   "source": [
    "We now `compile` and train the model where it has a `loss` function for measuring the success of the training and an `optimizer` to help improve the `loss` over time. As well as, a `batch_size` and `epochs` that iterates the number of times the data passes through the neural network.\n",
    "\n",
    "Depending on the number of iterations and data size, the time and efficiency for the model to train can vary."
   ]
  },
  {
   "cell_type": "code",
   "execution_count": 13,
   "metadata": {},
   "outputs": [
    {
     "name": "stdout",
     "output_type": "stream",
     "text": [
      "Epoch 1/2\n",
      "1787/1787 [==============================] - 112s 57ms/step - loss: 4.4354e-04\n",
      "Epoch 2/2\n",
      "1787/1787 [==============================] - 98s 55ms/step - loss: 1.4405e-04 0s - loss: 1.4406e-0\n"
     ]
    },
    {
     "data": {
      "text/plain": [
       "<tensorflow.python.keras.callbacks.History at 0x18cfb5067c0>"
      ]
     },
     "execution_count": 13,
     "metadata": {},
     "output_type": "execute_result"
    }
   ],
   "source": [
    "model.compile(optimizer = 'adam', loss = 'mean_squared_error')\n",
    "model.fit(Xtrain, ytrain, batch_size = 1, epochs = 2)"
   ]
  },
  {
   "cell_type": "markdown",
   "metadata": {},
   "source": [
    "## Creating a Testing Data Set\n",
    "\n",
    "After creating and running the training data set through the constructed LSTM model architecture, next is testing the model and verifying how well it performs.\n",
    "\n",
    "Similar to before, we scale the rest of the data into new test data sets `Xtest` and `ytest`. Converting `Xtest` into an array and `reshape` it so it can be an acceptable input for the LSTM model."
   ]
  },
  {
   "cell_type": "code",
   "execution_count": 14,
   "metadata": {},
   "outputs": [
    {
     "name": "stdout",
     "output_type": "stream",
     "text": [
      "Three dimensional array consisting of rows, columns and depth : (629, 100, 1)\n"
     ]
    }
   ],
   "source": [
    "scaleTest = scaledData[closeLength - days:, :]\n",
    "\n",
    "Xtest = []\n",
    "ytest = closeArray[closeLength:, :]\n",
    "\n",
    "for i in range(days, len(scaleTest)):\n",
    "    Xtest.append(scaleTest[i - days:i, 0])\n",
    "    \n",
    "Xtest = np.array(Xtest)\n",
    "Xtest = np.reshape(Xtest, (Xtest.shape[0], Xtest.shape[1], 1))\n",
    "\n",
    "print('Three dimensional array consisting of rows, columns and depth :', Xtest.shape)"
   ]
  },
  {
   "cell_type": "markdown",
   "metadata": {},
   "source": [
    "## Plotting the Predictions Against the Original Model\n",
    "\n",
    "Once all the training and testing data sets have been created and processed, it is simply a matter of calculating and graphing a visual representation of the training, validation and predictions data on a plot to verify the success of the LSTM model network.\n",
    "\n",
    "Here we get the predicted model values `pred` from the `Xtest` data set and perform an `inverse_transform` so we can calculate the root mean square error (RMSE). The <b>RMSE</b> is a metric that tells us how far apart the predicted values are from the observed values. The formula is as shown,\n",
    "\n",
    "<b>RMSE = √[Σ(Pi – Oi)*2 / n]</b>\n",
    "\n",
    "The smaller the RMSE number, the smaller the difference there is between the predicted and actual values and the higher the accuracy of the model fit is to the data."
   ]
  },
  {
   "cell_type": "code",
   "execution_count": 15,
   "metadata": {},
   "outputs": [
    {
     "name": "stdout",
     "output_type": "stream",
     "text": [
      "Root mean square error:  2.1775399505310093\n"
     ]
    }
   ],
   "source": [
    "pred = model.predict(Xtest)\n",
    "pred = scaler.inverse_transform(pred)\n",
    "\n",
    "rmse = np.sqrt(np.mean(((pred - ytest)**2)))\n",
    "\n",
    "print('Root mean square error: ', rmse)"
   ]
  },
  {
   "cell_type": "markdown",
   "metadata": {},
   "source": [
    "Plotting the training, validation and prediction of the model to see how accurately it fit the data."
   ]
  },
  {
   "cell_type": "code",
   "execution_count": 16,
   "metadata": {},
   "outputs": [
    {
     "data": {
      "image/png": "[encoded data removed]",
      "text/plain": [
       "<Figure size 1080x576 with 1 Axes>"
      ]
     },
     "metadata": {
      "needs_background": "light"
     },
     "output_type": "display_data"
    }
   ],
   "source": [
    "valid = closeData[closeLength:]\n",
    "valid['Predictions'] = pred\n",
    "train = closeData[:closeLength]\n",
    "\n",
    "plt.figure(figsize = (15, 8))\n",
    "plt.title('Model of Closing Prices with Prediction')\n",
    "plt.xlabel(xaxis)\n",
    "plt.ylabel('Close Price (USD)')\n",
    "plt.plot(train['Close'])\n",
    "plt.plot(valid[['Close', 'Predictions']])\n",
    "plt.legend(['Train', 'Validation', 'Predictions'])\n",
    "plt.grid(True)\n",
    "# plt.savefig(\"ClosingPricePredPlot.jpg\")\n",
    "plt.show()"
   ]
  },
  {
   "cell_type": "markdown",
   "metadata": {},
   "source": [
    "Displaying the validation data table to see how close the prediction values themselves were to the actual market closing prices."
   ]
  },
  {
   "cell_type": "code",
   "execution_count": 17,
   "metadata": {},
   "outputs": [
    {
     "data": {
      "text/html": [
       "<div>\n",
       "<style scoped>\n",
       "    .dataframe tbody tr th:only-of-type {\n",
       "        vertical-align: middle;\n",
       "    }\n",
       "\n",
       "    .dataframe tbody tr th {\n",
       "        vertical-align: top;\n",
       "    }\n",
       "\n",
       "    .dataframe thead th {\n",
       "        text-align: right;\n",
       "    }\n",
       "</style>\n",
       "<table border=\"1\" class=\"dataframe\">\n",
       "  <thead>\n",
       "    <tr style=\"text-align: right;\">\n",
       "      <th></th>\n",
       "      <th>Close</th>\n",
       "      <th>Predictions</th>\n",
       "    </tr>\n",
       "    <tr>\n",
       "      <th>Date</th>\n",
       "      <th></th>\n",
       "      <th></th>\n",
       "    </tr>\n",
       "  </thead>\n",
       "  <tbody>\n",
       "    <tr>\n",
       "      <th>2017-07-03</th>\n",
       "      <td>68.169998</td>\n",
       "      <td>69.981758</td>\n",
       "    </tr>\n",
       "    <tr>\n",
       "      <th>2017-07-05</th>\n",
       "      <td>69.080002</td>\n",
       "      <td>69.614471</td>\n",
       "    </tr>\n",
       "    <tr>\n",
       "      <th>2017-07-06</th>\n",
       "      <td>68.570000</td>\n",
       "      <td>69.531029</td>\n",
       "    </tr>\n",
       "    <tr>\n",
       "      <th>2017-07-07</th>\n",
       "      <td>69.459999</td>\n",
       "      <td>69.434875</td>\n",
       "    </tr>\n",
       "    <tr>\n",
       "      <th>2017-07-10</th>\n",
       "      <td>69.980003</td>\n",
       "      <td>69.570618</td>\n",
       "    </tr>\n",
       "    <tr>\n",
       "      <th>...</th>\n",
       "      <td>...</td>\n",
       "      <td>...</td>\n",
       "    </tr>\n",
       "    <tr>\n",
       "      <th>2019-12-24</th>\n",
       "      <td>157.380005</td>\n",
       "      <td>157.029724</td>\n",
       "    </tr>\n",
       "    <tr>\n",
       "      <th>2019-12-26</th>\n",
       "      <td>158.669998</td>\n",
       "      <td>157.460114</td>\n",
       "    </tr>\n",
       "    <tr>\n",
       "      <th>2019-12-27</th>\n",
       "      <td>158.960007</td>\n",
       "      <td>158.045151</td>\n",
       "    </tr>\n",
       "    <tr>\n",
       "      <th>2019-12-30</th>\n",
       "      <td>157.589996</td>\n",
       "      <td>158.577271</td>\n",
       "    </tr>\n",
       "    <tr>\n",
       "      <th>2019-12-31</th>\n",
       "      <td>157.699997</td>\n",
       "      <td>158.611420</td>\n",
       "    </tr>\n",
       "  </tbody>\n",
       "</table>\n",
       "<p>629 rows × 2 columns</p>\n",
       "</div>"
      ],
      "text/plain": [
       "                 Close  Predictions\n",
       "Date                               \n",
       "2017-07-03   68.169998    69.981758\n",
       "2017-07-05   69.080002    69.614471\n",
       "2017-07-06   68.570000    69.531029\n",
       "2017-07-07   69.459999    69.434875\n",
       "2017-07-10   69.980003    69.570618\n",
       "...                ...          ...\n",
       "2019-12-24  157.380005   157.029724\n",
       "2019-12-26  158.669998   157.460114\n",
       "2019-12-27  158.960007   158.045151\n",
       "2019-12-30  157.589996   158.577271\n",
       "2019-12-31  157.699997   158.611420\n",
       "\n",
       "[629 rows x 2 columns]"
      ]
     },
     "execution_count": 17,
     "metadata": {},
     "output_type": "execute_result"
    }
   ],
   "source": [
    "valid"
   ]
  },
  {
   "cell_type": "markdown",
   "metadata": {},
   "source": [
    "## Comparing the Predict Future Closing Price to the Actual Value\n",
    "\n",
    "After validating the prediction model over the observed data sets and viewing how well it did, we can try to predict a future value and see how close it is to the actual stock market value for the following day after the data set range.\n",
    "\n",
    "Here we will create new data frames of the stock market data from [Yahoo Finance](https://finance.yahoo.com/). Similar as before there are two options offered, using `DataReader` to grab data directly from the web or reading from a `.csv` file in a local path. Be sure to comment out the one that is not used."
   ]
  },
  {
   "cell_type": "markdown",
   "metadata": {},
   "source": [
    "Reading data directly from the website using `DataReader`."
   ]
  },
  {
   "cell_type": "code",
   "execution_count": 18,
   "metadata": {},
   "outputs": [],
   "source": [
    "data = web.DataReader(ticker, data_source = 'yahoo', start = startDate, end = endDate)"
   ]
  },
  {
   "cell_type": "markdown",
   "metadata": {},
   "source": [
    "Reading data from the local path `.csv` file."
   ]
  },
  {
   "cell_type": "code",
   "execution_count": 19,
   "metadata": {},
   "outputs": [],
   "source": [
    "# data = pd.read_csv('MSFT.csv')"
   ]
  },
  {
   "cell_type": "markdown",
   "metadata": {},
   "source": [
    "Similar to before, filtering out only the <b>Close</b> column and scale the data over the previous days that were assumed."
   ]
  },
  {
   "cell_type": "code",
   "execution_count": 20,
   "metadata": {},
   "outputs": [],
   "source": [
    "df2 = data.filter(['Close'])\n",
    "\n",
    "numLast = df2[-days:].values\n",
    "numLastScaled = scaler.transform(numLast)"
   ]
  },
  {
   "cell_type": "markdown",
   "metadata": {},
   "source": [
    "Creating a new `Xtest` data set, converting it to an array and reshaping it for input into the model. From there, a predicton price is made and is `inverted_transform` from the `scaler`."
   ]
  },
  {
   "cell_type": "code",
   "execution_count": 21,
   "metadata": {},
   "outputs": [
    {
     "name": "stdout",
     "output_type": "stream",
     "text": [
      "Next day predicted price:  [[158.538]]\n"
     ]
    }
   ],
   "source": [
    "Xtest = []\n",
    "\n",
    "Xtest.append(numLastScaled)\n",
    "Xtest = np.array(Xtest)\n",
    "Xtest = np.reshape(Xtest, (Xtest.shape[0], Xtest.shape[1], 1))\n",
    "\n",
    "predPrice = model.predict(Xtest)\n",
    "predPrice = scaler.inverse_transform(predPrice)\n",
    "\n",
    "print('Next day predicted price: ', predPrice)"
   ]
  },
  {
   "cell_type": "markdown",
   "metadata": {},
   "source": [
    "Getting the stock market price from the following day to compare the two values."
   ]
  },
  {
   "cell_type": "code",
   "execution_count": 22,
   "metadata": {
    "scrolled": true
   },
   "outputs": [
    {
     "name": "stdout",
     "output_type": "stream",
     "text": [
      "Date\n",
      "2020-01-02    160.619995\n",
      "Name: Close, dtype: float64\n"
     ]
    }
   ],
   "source": [
    "data2 = web.DataReader(ticker, data_source = 'yahoo', start = nextDay, end = nextDay)\n",
    "\n",
    "print(data2['Close'])"
   ]
  }
 ],
 "metadata": {
  "kernelspec": {
   "display_name": "Python 3",
   "language": "python",
   "name": "python3"
  },
  "language_info": {
   "codemirror_mode": {
    "name": "ipython",
    "version": 3
   },
   "file_extension": ".py",
   "mimetype": "text/x-python",
   "name": "python",
   "nbconvert_exporter": "python",
   "pygments_lexer": "ipython3",
   "version": "3.8.5"
  }
 },
 "nbformat": 4,
 "nbformat_minor": 4
}
